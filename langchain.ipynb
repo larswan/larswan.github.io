{
 "cells": [
  {
   "cell_type": "code",
   "execution_count": 15,
   "metadata": {},
   "outputs": [],
   "source": [
    "import langchain\n",
    "from langchain.llms import OpenAI\n",
    "import os\n",
    "\n",
    "OPENAIAPIKEY = PASSWORD = os.environ.get(\"OPENAI_API_KEY\")\n",
    "\n",
    "llm = OpenAI(openai_api_key=OPENAIAPIKEY)\n"
   ]
  },
  {
   "cell_type": "code",
   "execution_count": 24,
   "metadata": {},
   "outputs": [],
   "source": [
    "from langchain.chains.question_answering import load_qa_chain\n",
    "from langchain.indexes import VectorstoreIndexCreator\n",
    "from langchain.document_loaders import TextLoader\n",
    "from langchain.prompts import PromptTemplate\n",
    "import chromadb\n",
    "import chromadb.config\n",
    "import tiktoken\n",
    "\n",
    "# allowing to search the doc by indexing chunks of doc. returns a string of relevant part of doc\n",
    "loader = TextLoader('src/assets/lease.txt')\n",
    "index = VectorstoreIndexCreator().from_loaders([loader])\n",
    "query = \"How many people can live in the apartment?\"\n",
    "index.query(query)\n",
    "\n",
    "template = \"\"\"You are an intelligent question answering assistant.\n",
    " Answer the user's question based on the provided information. \n",
    " Information: {information}\n",
    " Question: {question}\"\"\"\n",
    "\n",
    "prompt = PromptTemplate(\n",
    "    input_variables=[\"information\", \"question\"],\n",
    "    template=template\n",
    ")\n",
    "\n"
   ]
  },
  {
   "cell_type": "code",
   "execution_count": null,
   "metadata": {},
   "outputs": [],
   "source": []
  },
  {
   "cell_type": "code",
   "execution_count": 26,
   "metadata": {},
   "outputs": [],
   "source": [
    "def answer_q(question):\n",
    "    doc = index.query(question)\n",
    "    input = prompt.format(question=question, information=doc)\n",
    "    print(input)\n"
   ]
  },
  {
   "cell_type": "code",
   "execution_count": 28,
   "metadata": {},
   "outputs": [
    {
     "name": "stdout",
     "output_type": "stream",
     "text": [
      "You are an intelligent question answering assistant.\n",
      " Answer the user's question based on the provided information. \n",
      " Information:  This document is in plain language.\n",
      " Question: what language is this document in\n"
     ]
    }
   ],
   "source": [
    "answer_q(\"what language is this document in\")"
   ]
  }
 ],
 "metadata": {
  "kernelspec": {
   "display_name": "Python 3",
   "language": "python",
   "name": "python3"
  },
  "language_info": {
   "name": "python",
   "version": "3.8.10"
  },
  "orig_nbformat": 4
 },
 "nbformat": 4,
 "nbformat_minor": 2
}
