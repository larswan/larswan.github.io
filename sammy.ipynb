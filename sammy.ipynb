{
 "cells": [
  {
   "cell_type": "code",
   "execution_count": 18,
   "metadata": {},
   "outputs": [],
   "source": [
    "# installed globally\n",
    "import faiss"
   ]
  },
  {
   "cell_type": "code",
   "execution_count": 19,
   "metadata": {},
   "outputs": [],
   "source": [
    "#pip install - U sentence-transformers\n",
    "# quickstart guise: https://www.sbert.net/docs/quickstart.html\n",
    "from sentence_transformers import SentenceTransformer\n",
    "model = SentenceTransformer('all-MiniLM-L6-v2')\n"
   ]
  },
  {
   "cell_type": "code",
   "execution_count": null,
   "metadata": {},
   "outputs": [],
   "source": [
    "# SENTENCE TRANSFORMER INSTRUCTION and EXAMPLE\n",
    "from sentence_transformers import SentenceTransformer\n",
    "\n",
    "# Our sentences we like to encode\n",
    "sentences = ['This framework generates embeddings for each input sentence',\n",
    "             'Sentences are passed as a list of string.',\n",
    "             'The quick brown fox jumps over the lazy dog.']\n",
    "\n",
    "# Sentences are encoded by calling model.encode()\n",
    "sentence_embeddings = model.encode(sentences)\n",
    "\n",
    "# Print the embeddings\n",
    "for sentence, embedding in zip(sentences, sentence_embeddings):\n",
    "    print(\"Sentence:\", sentence)\n",
    "    print(\"Embedding:\", embedding)\n",
    "    print(\"\")\n"
   ]
  },
  {
   "cell_type": "code",
   "execution_count": 11,
   "metadata": {},
   "outputs": [],
   "source": [
    "# efficient vector search library\n",
    "from faiss import IndexFlatL2"
   ]
  },
  {
   "cell_type": "code",
   "execution_count": 12,
   "metadata": {},
   "outputs": [],
   "source": [
    "# initialize the faiss index with the dimension of the embeddings, e.g. 768, 1024, 2048\n",
    "index = IndexFlatL2(1024)\n"
   ]
  },
  {
   "cell_type": "code",
   "execution_count": 13,
   "metadata": {},
   "outputs": [],
   "source": [
    "#read the file as a single string\n",
    "with open('Energy metabolism fuel selection and body weight regulation.txt') as f:\n",
    "    article = f.read()    "
   ]
  },
  {
   "cell_type": "code",
   "execution_count": 14,
   "metadata": {},
   "outputs": [],
   "source": [
    "# chunk the file into passages of length 2000 with overlaps of 200 characters\n",
    "passages = []\n",
    "for i in range(0, len(article), 1800):\n",
    "    passages.append({'passage_text': article[i: i + 2000]})\n"
   ]
  },
  {
   "cell_type": "code",
   "execution_count": 15,
   "metadata": {},
   "outputs": [],
   "source": [
    "# embed the documents as vectors\n",
    "# Sammy encoder style: corpus = retriever.encode_corpus(passages)\n",
    "corpus = model.encode(passages)\n"
   ]
  },
  {
   "cell_type": "code",
   "execution_count": null,
   "metadata": {},
   "outputs": [],
   "source": [
    "# add the vector embeddings to the faiss index\n",
    "index.add(corpus)\n"
   ]
  },
  {
   "cell_type": "code",
   "execution_count": null,
   "metadata": {},
   "outputs": [],
   "source": [
    "question = \"Where was Ice Spice born?\"\n"
   ]
  },
  {
   "cell_type": "code",
   "execution_count": null,
   "metadata": {},
   "outputs": [],
   "source": [
    "# encode the question as a vector\n",
    "query = retriever.encode_queries([question])\n"
   ]
  },
  {
   "cell_type": "code",
   "execution_count": null,
   "metadata": {},
   "outputs": [],
   "source": [
    "# retrieve the 3 nearest neighbors of the query vector from the document vectors\n",
    "# the distances are stored in D, the indices of the documents are stored in I\n",
    "D, I = index.search(query, k=3)"
   ]
  },
  {
   "cell_type": "code",
   "execution_count": null,
   "metadata": {},
   "outputs": [],
   "source": [
    "# get the associated passage strings\n",
    "relevant_documents = [passages[i] for i in I[0]]"
   ]
  },
  {
   "cell_type": "code",
   "execution_count": null,
   "metadata": {},
   "outputs": [],
   "source": [
    "openai_api_key=\"sike\""
   ]
  },
  {
   "cell_type": "code",
   "execution_count": null,
   "metadata": {},
   "outputs": [],
   "source": [
    "import openai"
   ]
  },
  {
   "cell_type": "code",
   "execution_count": null,
   "metadata": {},
   "outputs": [],
   "source": [
    "openai.api_key = openai_api_key"
   ]
  },
  {
   "cell_type": "code",
   "execution_count": null,
   "metadata": {},
   "outputs": [],
   "source": [
    "# chat completion takes as input a list of messages in the format below\n",
    "messages = [{'role': 'system', 'content': f\"\"\"\n",
    "                You are an intelligent conversational agent, who can chat with the user in a friendly manner, and also answer questions using the provided context.\n",
    "                If you answer a question use in-line citations (e.g. [1]).\n",
    "                \"\"\"}]\n",
    "\n",
    "\n",
    "def ask(question):\n",
    "    messages.append({'role': 'user', 'content': question})\n",
    "    query = retriever.encode_queries([question])\n",
    "    D, I = index.search(query, k=3)\n",
    "    relevant_documents = [passages[i] for i in I[0]]\n",
    "    # specify the chat model and the messages\n",
    "    response = openai.ChatCompletion.create(model='gpt-3.5-turbo', messages=messages + [\n",
    "                                            {'role': 'system', 'content': f\"Relevant documents: 1. {relevant_documents[0]['passage_text']} \\n 2. {relevant_documents[1]['passage_text']} \\n 3. {relevant_documents[2]['passage_text']} \\n\"}]).choices[0]['message']['content']\n",
    "    messages.append({'role': 'assistant', 'content': response})\n",
    "    print(response + '\\n')\n",
    "    for i, doc in enumerate(relevant_documents):\n",
    "        print(f\"[{i}]   {doc['passage_text']} \\n\")\n",
    "    return response"
   ]
  },
  {
   "cell_type": "code",
   "execution_count": null,
   "metadata": {},
   "outputs": [],
   "source": [
    "ask('what year was she born')"
   ]
  },
  {
   "cell_type": "code",
   "execution_count": null,
   "metadata": {},
   "outputs": [],
   "source": [
    "messages\n"
   ]
  }
 ],
 "metadata": {
  "kernelspec": {
   "display_name": "Python 3",
   "language": "python",
   "name": "python3"
  },
  "language_info": {
   "codemirror_mode": {
    "name": "ipython",
    "version": 3
   },
   "file_extension": ".py",
   "mimetype": "text/x-python",
   "name": "python",
   "nbconvert_exporter": "python",
   "pygments_lexer": "ipython3",
   "version": "3.8.10"
  },
  "orig_nbformat": 4
 },
 "nbformat": 4,
 "nbformat_minor": 2
}
