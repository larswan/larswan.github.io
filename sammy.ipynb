{
 "cells": [
  {
   "cell_type": "code",
   "execution_count": null,
   "metadata": {},
   "outputs": [],
   "source": [
    "import faiss"
   ]
  },
  {
   "cell_type": "code",
   "execution_count": null,
   "metadata": {},
   "outputs": [],
   "source": [
    "from retriever import RetrievalModel"
   ]
  },
  {
   "cell_type": "code",
   "execution_count": null,
   "metadata": {},
   "outputs": [],
   "source": [
    "# sentence-transformer retrieval model, this is used to encode documents as vectors as well as queries\n",
    "retriever = RetrievalModel()\n"
   ]
  },
  {
   "cell_type": "code",
   "execution_count": null,
   "metadata": {},
   "outputs": [],
   "source": [
    "# efficient vector search library\n",
    "from faiss import IndexFlatL2\n"
   ]
  },
  {
   "cell_type": "code",
   "execution_count": null,
   "metadata": {},
   "outputs": [],
   "source": [
    "# initialize the faiss index with the dimension of the embeddings, e.g. 768, 1024, 2048\n",
    "index = IndexFlatL2(1024)\n"
   ]
  },
  {
   "cell_type": "code",
   "execution_count": null,
   "metadata": {},
   "outputs": [],
   "source": [
    "#read the file as a single string\n",
    "with open('freud.txt') as f:\n",
    "    freud = f.read()    "
   ]
  },
  {
   "cell_type": "code",
   "execution_count": null,
   "metadata": {},
   "outputs": [],
   "source": [
    "# chunk the file into passages of length 2000 with overlaps of 200 characters\n",
    "passages = []\n",
    "for i in range(0, len(freud), 1800):\n",
    "    passages.append({'passage_text': freud[i: i + 2000]})\n"
   ]
  },
  {
   "cell_type": "code",
   "execution_count": null,
   "metadata": {},
   "outputs": [],
   "source": [
    "# embed the documents as vectors\n",
    "corpus = retriever.encode_corpus(passages)\n"
   ]
  },
  {
   "cell_type": "code",
   "execution_count": null,
   "metadata": {},
   "outputs": [],
   "source": [
    "# add the vector embeddings to the faiss index\n",
    "index.add(corpus)\n"
   ]
  },
  {
   "cell_type": "code",
   "execution_count": null,
   "metadata": {},
   "outputs": [],
   "source": [
    "question = \"Where was Ice Spice born?\"\n"
   ]
  },
  {
   "cell_type": "code",
   "execution_count": null,
   "metadata": {},
   "outputs": [],
   "source": [
    "# encode the question as a vector\n",
    "query = retriever.encode_queries([question])\n"
   ]
  },
  {
   "cell_type": "code",
   "execution_count": null,
   "metadata": {},
   "outputs": [],
   "source": [
    "# retrieve the 3 nearest neighbors of the query vector from the document vectors\n",
    "# the distances are stored in D, the indices of the documents are stored in I\n",
    "D, I = index.search(query, k=3)\n"
   ]
  },
  {
   "cell_type": "code",
   "execution_count": null,
   "metadata": {},
   "outputs": [],
   "source": [
    "# get the associated passage strings\n",
    "relevant_documents = [passages[i] for i in I[0]]\n"
   ]
  },
  {
   "cell_type": "code",
   "execution_count": null,
   "metadata": {},
   "outputs": [],
   "source": [
    "openai_api_key=\"sike\""
   ]
  },
  {
   "cell_type": "code",
   "execution_count": null,
   "metadata": {},
   "outputs": [],
   "source": [
    "import openai\n"
   ]
  },
  {
   "cell_type": "code",
   "execution_count": null,
   "metadata": {},
   "outputs": [],
   "source": [
    "openai.api_key = openai_api_key\n"
   ]
  },
  {
   "cell_type": "code",
   "execution_count": null,
   "metadata": {},
   "outputs": [],
   "source": [
    "# chat completion takes as input a list of messages in the format below\n",
    "messages = [{'role': 'system', 'content': f\"\"\"\n",
    "                You are an intelligent conversational agent, who can chat with the user in a friendly manner, and also answer questions using the provided context.\n",
    "                If you answer a question use in-line citations (e.g. [1]).\n",
    "                \"\"\"}]\n",
    "\n",
    "\n",
    "def ask(question):\n",
    "    messages.append({'role': 'user', 'content': question})\n",
    "    query = retriever.encode_queries([question])\n",
    "    D, I = index.search(query, k=3)\n",
    "    relevant_documents = [passages[i] for i in I[0]]\n",
    "    # specify the chat model and the messages\n",
    "    response = openai.ChatCompletion.create(model='gpt-3.5-turbo', messages=messages + [\n",
    "                                            {'role': 'system', 'content': f\"Relevant documents: 1. {relevant_documents[0]['passage_text']} \\n 2. {relevant_documents[1]['passage_text']} \\n 3. {relevant_documents[2]['passage_text']} \\n\"}]).choices[0]['message']['content']\n",
    "    messages.append({'role': 'assistant', 'content': response})\n",
    "    print(response + '\\n')\n",
    "    for i, doc in enumerate(relevant_documents):\n",
    "        print(f\"[{i}]   {doc['passage_text']} \\n\")\n",
    "    return response\n"
   ]
  },
  {
   "cell_type": "code",
   "execution_count": null,
   "metadata": {},
   "outputs": [],
   "source": [
    "ask('what year was she born')\n"
   ]
  },
  {
   "cell_type": "code",
   "execution_count": null,
   "metadata": {},
   "outputs": [],
   "source": [
    "messages\n"
   ]
  }
 ],
 "metadata": {
  "language_info": {
   "name": "python"
  },
  "orig_nbformat": 4
 },
 "nbformat": 4,
 "nbformat_minor": 2
}
